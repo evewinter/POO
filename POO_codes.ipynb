{
  "nbformat": 4,
  "nbformat_minor": 0,
  "metadata": {
    "colab": {
      "provenance": [],
      "authorship_tag": "ABX9TyNmTh2LZq7mZkIgQ6aRdRwd",
      "include_colab_link": true
    },
    "kernelspec": {
      "name": "python3",
      "display_name": "Python 3"
    },
    "language_info": {
      "name": "python"
    }
  },
  "cells": [
    {
      "cell_type": "markdown",
      "metadata": {
        "id": "view-in-github",
        "colab_type": "text"
      },
      "source": [
        "<a href=\"https://colab.research.google.com/github/evewinter/POO/blob/main/POO_codes.ipynb\" target=\"_parent\"><img src=\"https://colab.research.google.com/assets/colab-badge.svg\" alt=\"Open In Colab\"/></a>"
      ]
    },
    {
      "cell_type": "code",
      "source": [
        "# Tabela de Multiplicação de 5\n",
        "numero = 5\n",
        "\n",
        "for i in range(5, 16):\n",
        "    print(f\"{numero} x {i} = {numero * i}\")"
      ],
      "metadata": {
        "colab": {
          "base_uri": "https://localhost:8080/"
        },
        "id": "oInDfsWSro62",
        "outputId": "6b97e676-1a8f-4fbe-fc03-41c3391048ac"
      },
      "execution_count": 3,
      "outputs": [
        {
          "output_type": "stream",
          "name": "stdout",
          "text": [
            "5 x 5 = 25\n",
            "5 x 6 = 30\n",
            "5 x 7 = 35\n",
            "5 x 8 = 40\n",
            "5 x 9 = 45\n",
            "5 x 10 = 50\n",
            "5 x 11 = 55\n",
            "5 x 12 = 60\n",
            "5 x 13 = 65\n",
            "5 x 14 = 70\n",
            "5 x 15 = 75\n"
          ]
        }
      ]
    },
    {
      "cell_type": "code",
      "source": [
        "# Contador de cpf\n",
        "\n",
        "cpf = input(\"Digite um CPF: \")\n",
        "\n",
        "cpf_semponto = \"\"\n",
        "for char in cpf:\n",
        "    if char.isdigit():\n",
        "        cpf_semponto += char\n",
        "\n",
        "# Verifica o comprimento\n",
        "if len(cpf_semponto) == 11:\n",
        "    print(\"O CPF informado tem 11 dígitos.\")\n",
        "else:\n",
        "    print(f\"O CPF informado tem {len(cpf_semponto)} dígitos, que é inválido.\")\n"
      ],
      "metadata": {
        "colab": {
          "base_uri": "https://localhost:8080/"
        },
        "id": "1sV-wauzwBBt",
        "outputId": "57e4807b-b7f8-4f36-ee93-1187e72d11cb"
      },
      "execution_count": 2,
      "outputs": [
        {
          "output_type": "stream",
          "name": "stdout",
          "text": [
            "Digite um CPF: 080.491.453-28\n",
            "O CPF informado tem 11 dígitos.\n"
          ]
        }
      ]
    },
    {
      "cell_type": "code",
      "source": [
        "# Serie de Fibonacci\n",
        "\n",
        "def fibonacci(n):\n",
        "    fib_sequence = []\n",
        "\n",
        "    a, b = 0, 1\n",
        "    for i in range(n):\n",
        "        fib_sequence.append(a)\n",
        "        a, b = b, a + b\n",
        "\n",
        "    return fib_sequence\n",
        "\n",
        "n = int(input(\"Entre com o valor de n: \"))\n",
        "\n",
        "print(\", \".join(map(str, fibonacci(n))))"
      ],
      "metadata": {
        "colab": {
          "base_uri": "https://localhost:8080/"
        },
        "id": "Rp3pU3GAgQAg",
        "outputId": "b7827be6-0152-4280-cc57-11bbbe3970c5"
      },
      "execution_count": 4,
      "outputs": [
        {
          "output_type": "stream",
          "name": "stdout",
          "text": [
            "Entre com o valor de n: 17\n",
            "0, 1, 1, 2, 3, 5, 8, 13, 21, 34, 55, 89, 144, 233, 377, 610, 987\n"
          ]
        }
      ]
    }
  ]
}